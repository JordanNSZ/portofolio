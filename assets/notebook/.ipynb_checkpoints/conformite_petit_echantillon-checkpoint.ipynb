{
 "cells": [
  {
   "cell_type": "code",
   "execution_count": 2,
   "id": "5266d3f3-88b5-4ccb-8e02-2876a2fec192",
   "metadata": {},
   "outputs": [
    {
     "data": {
      "text/plain": [
       "0.532018746761403"
      ]
     },
     "metadata": {},
     "output_type": "display_data"
    }
   ],
   "source": [
    "# création de l'échantillon\n",
    "import pandas as pd\n",
    "import numpy as np\n",
    "import random\n",
    "random.seed(10)\n",
    "\n",
    "moy_cible = 0.50\n",
    "n = 25\n",
    "alpha = 0.05\n",
    "\n",
    "data = np.random.normal(loc=0.53, scale=0.01, size=n)\n",
    "serie = pd.Series(data)\n",
    "\n",
    "moy_obs = serie.mean()\n",
    "display(moy_obs)"
   ]
  },
  {
   "cell_type": "code",
   "execution_count": 3,
   "id": "c3944cdc-0ce0-419d-a76a-ba2a1b61179c",
   "metadata": {},
   "outputs": [
    {
     "data": {
      "text/plain": [
       "0.9695425629615784"
      ]
     },
     "metadata": {},
     "output_type": "display_data"
    },
    {
     "data": {
      "text/plain": [
       "0.6334888339042664"
      ]
     },
     "metadata": {},
     "output_type": "display_data"
    }
   ],
   "source": [
    "# test adéquation loi normale\n",
    "from scipy.stats import shapiro\n",
    "statistic, pvalue = shapiro(serie)\n",
    "\n",
    "display(statistic, pvalue)"
   ]
  },
  {
   "cell_type": "code",
   "execution_count": 4,
   "id": "0b9b3373-2d42-411b-870d-c7e556dce410",
   "metadata": {},
   "outputs": [
    {
     "data": {
      "text/plain": [
       "14.72308821188204"
      ]
     },
     "metadata": {},
     "output_type": "display_data"
    }
   ],
   "source": [
    "# statistique de test\n",
    "std = np.std(serie, ddof = 1)\n",
    "t = (moy_obs - moy_cible) / (std / np.sqrt(n))\n",
    "display(t)"
   ]
  },
  {
   "cell_type": "code",
   "execution_count": 5,
   "id": "aba87bba-5e1d-45b7-83f4-426febb5e827",
   "metadata": {},
   "outputs": [
    {
     "data": {
      "text/plain": [
       "2.0638985616280205"
      ]
     },
     "execution_count": 5,
     "metadata": {},
     "output_type": "execute_result"
    }
   ],
   "source": [
    "# quantile loi de student.\n",
    "from scipy import stats\n",
    "quantile = stats.t.ppf(1-alpha/2, n-1)\n",
    "display(quantile)"
   ]
  },
  {
   "cell_type": "markdown",
   "id": "58c1620a-aa8b-4b7b-89b9-3bf196f15cf1",
   "metadata": {},
   "source": [
    "Avec un risque d'erreur de 5%, on peut rejeter l'hypothèse nulle d'égalité des moyennes. En effet, d'après les relevés effectués, nous avons suffisamment d'évidence pour conclure à la défaillance machine."
   ]
  },
  {
   "cell_type": "code",
   "execution_count": 6,
   "id": "5b303e19-672d-4f6e-ba61-4b7a87bdbecf",
   "metadata": {},
   "outputs": [
    {
     "data": {
      "text/plain": [
       "1.6275869541004795e-13"
      ]
     },
     "metadata": {},
     "output_type": "display_data"
    }
   ],
   "source": [
    "# pvalue\n",
    "from scipy import stats\n",
    "pvalue = 2*(1-stats.t.cdf(t, n-1))\n",
    "display(pvalue)"
   ]
  },
  {
   "cell_type": "markdown",
   "id": "6b5bc940-b9b7-426b-ac3f-d612220350d4",
   "metadata": {},
   "source": [
    "La probabiltié d'observer une statistique de test au moins aussi extrême est faible. On peut donc rejeter l'hypothèse nulle au profit de l'hypothèse alternative et conclure à la défaillance machine. "
   ]
  },
  {
   "cell_type": "code",
   "execution_count": 7,
   "id": "31cde9c1-ae9a-4ff1-9a14-0562cfd9fb71",
   "metadata": {},
   "outputs": [
    {
     "data": {
      "text/plain": [
       "0.5275303239227311"
      ]
     },
     "metadata": {},
     "output_type": "display_data"
    },
    {
     "data": {
      "text/plain": [
       "0.5"
      ]
     },
     "metadata": {},
     "output_type": "display_data"
    },
    {
     "data": {
      "text/plain": [
       "0.5365071696000749"
      ]
     },
     "metadata": {},
     "output_type": "display_data"
    }
   ],
   "source": [
    "# IC_95\n",
    "ic_sup = moy_obs + quantile * std/np.sqrt(n)\n",
    "ic_inf = moy_obs - quantile * std/np.sqrt(n)\n",
    "\n",
    "display(ic_inf, moy_cible, ic_sup)"
   ]
  },
  {
   "cell_type": "markdown",
   "id": "ccd4ba16-5bbe-479a-a373-433e14407f86",
   "metadata": {},
   "source": [
    "La moyenne cible n'appartient pas à l'intervalle de confiance de notre moyenne observée. On a donc 5 chances sur 100 de conclure à tord à la défaillance machine. "
   ]
  },
  {
   "cell_type": "code",
   "execution_count": 9,
   "id": "3666b851-d4de-4d6d-a262-278a78b5ded7",
   "metadata": {},
   "outputs": [
    {
     "data": {
      "text/plain": [
       "14.72308821188204"
      ]
     },
     "metadata": {},
     "output_type": "display_data"
    },
    {
     "data": {
      "text/plain": [
       "1.627806692822218e-13"
      ]
     },
     "metadata": {},
     "output_type": "display_data"
    },
    {
     "data": {
      "text/plain": [
       "ConfidenceInterval(low=0.5275303239227312, high=0.5365071696000748)"
      ]
     },
     "metadata": {},
     "output_type": "display_data"
    }
   ],
   "source": [
    "# test de student à un échantillon\n",
    "from scipy.stats import ttest_1samp as test_conformite\n",
    "\n",
    "results = test_conformite(serie, moy_cible, alternative='two-sided')\n",
    "display(results.statistic, results.pvalue, results.confidence_interval(confidence_level=0.95))"
   ]
  },
  {
   "cell_type": "markdown",
   "id": "304d21ef-dbe9-4206-9830-6b5142bcaf83",
   "metadata": {},
   "source": [
    "Nos résultats sont concordants avec le test réalisé. Il existe une différence statistiquement significative entre la moyenne observée et la moyenne de la population cible. On peut donc affirmer, avec un risque d'erreur de 5%, que la fraiseuse est mal réglée."
   ]
  }
 ],
 "metadata": {
  "kernelspec": {
   "display_name": "Python 3 (ipykernel)",
   "language": "python",
   "name": "python3"
  },
  "language_info": {
   "codemirror_mode": {
    "name": "ipython",
    "version": 3
   },
   "file_extension": ".py",
   "mimetype": "text/x-python",
   "name": "python",
   "nbconvert_exporter": "python",
   "pygments_lexer": "ipython3",
   "version": "3.10.12"
  }
 },
 "nbformat": 4,
 "nbformat_minor": 5
}
