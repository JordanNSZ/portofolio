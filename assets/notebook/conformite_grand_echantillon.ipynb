{
 "cells": [
  {
   "cell_type": "code",
   "execution_count": 23,
   "id": "f8657e91-9c95-4b8e-b317-2ae16344ac94",
   "metadata": {},
   "outputs": [
    {
     "data": {
      "text/plain": [
       "58.207151045410285"
      ]
     },
     "metadata": {},
     "output_type": "display_data"
    }
   ],
   "source": [
    "import pandas as pd\n",
    "import numpy as np\n",
    "import random\n",
    "random.seed(10)\n",
    "\n",
    "moy_cible = 58.00\n",
    "n = 100\n",
    "alpha = 0.05\n",
    "\n",
    "data = np.random.normal(loc=58.2, scale=0.2, size=n)\n",
    "serie = pd.Series(data)\n",
    "\n",
    "moy_obs = serie.mean()\n",
    "display(moy_obs)"
   ]
  },
  {
   "cell_type": "code",
   "execution_count": 3,
   "id": "a2427d6d-d95d-4ae7-b370-853b509baadb",
   "metadata": {},
   "outputs": [
    {
     "data": {
      "text/plain": [
       "ShapiroResult(statistic=0.9929735660552979, pvalue=0.8864582180976868)"
      ]
     },
     "execution_count": 3,
     "metadata": {},
     "output_type": "execute_result"
    }
   ],
   "source": [
    "# échantillon sup à 30 obs. d'après tcl, le résultat du test sera valide.\n",
    "# on peut vérifier avec test adéquation tq Shapiro-Wilk.\n",
    "from scipy.stats import shapiro\n",
    "shapiro(serie)"
   ]
  },
  {
   "cell_type": "markdown",
   "id": "b48718c1-d2bb-46c9-8773-bdda101b3dbb",
   "metadata": {},
   "source": [
    "Le test de Shapiro-Wilk confirme la normalité de l'échantillon. "
   ]
  },
  {
   "cell_type": "code",
   "execution_count": 4,
   "id": "258ebe3d-21c4-4460-beec-82e93dbd6e00",
   "metadata": {},
   "outputs": [
    {
     "data": {
      "text/plain": [
       "9.036274695663673"
      ]
     },
     "metadata": {},
     "output_type": "display_data"
    }
   ],
   "source": [
    "# statistique de test.\n",
    "std = np.std(serie, ddof = 1)\n",
    "t = (moy_obs - moy_cible) / (std / np.sqrt(n))\n",
    "display(t)"
   ]
  },
  {
   "cell_type": "code",
   "execution_count": 5,
   "id": "ecbf66fa-45c7-4f9f-819d-be2a3b2e9227",
   "metadata": {},
   "outputs": [
    {
     "data": {
      "text/plain": [
       "1.9842169515086827"
      ]
     },
     "execution_count": 5,
     "metadata": {},
     "output_type": "execute_result"
    }
   ],
   "source": [
    "# quantile loi de student.\n",
    "from scipy import stats\n",
    "quantile = stats.t.ppf(1-alpha/2, n-1)\n",
    "quantile"
   ]
  },
  {
   "cell_type": "markdown",
   "id": "1c7fd0a0-f271-429d-ae2c-5248cc650ae4",
   "metadata": {},
   "source": [
    "Avec un risque d'erreur de 5%, on peut rejeter l'hypothèse nulle d'égalité des moyennes. En effet, d'après les relevés effectués, nous avons suffisamment d'évidence pour conclure à la défaillance machine."
   ]
  },
  {
   "cell_type": "code",
   "execution_count": 6,
   "id": "b3cdb9c8-c29a-4a7a-bae2-d24bb565b842",
   "metadata": {},
   "outputs": [
    {
     "data": {
      "text/plain": [
       "1.3766765505351941e-14"
      ]
     },
     "execution_count": 6,
     "metadata": {},
     "output_type": "execute_result"
    }
   ],
   "source": [
    "# pvalue\n",
    "from scipy import stats\n",
    "pvalue = 2*(1-stats.t.cdf(t, n-1))\n",
    "pvalue"
   ]
  },
  {
   "cell_type": "markdown",
   "id": "449ebeb7-912f-427a-b913-c755f4e9f0d5",
   "metadata": {},
   "source": [
    "La probabilité d'observer notre statistique de test est largement inférieur au seuil de singificativité. On peut donc conclure àla défaillance machine. "
   ]
  },
  {
   "cell_type": "code",
   "execution_count": 7,
   "id": "1788a663-c7d7-4e07-8642-c84859425bd5",
   "metadata": {},
   "outputs": [
    {
     "data": {
      "text/plain": [
       "58.171463255736086"
      ]
     },
     "metadata": {},
     "output_type": "display_data"
    },
    {
     "data": {
      "text/plain": [
       "58.0"
      ]
     },
     "metadata": {},
     "output_type": "display_data"
    },
    {
     "data": {
      "text/plain": [
       "58.26795148964892"
      ]
     },
     "metadata": {},
     "output_type": "display_data"
    }
   ],
   "source": [
    "# IC_95\n",
    "ic_sup = moy_obs + quantile * std/np.sqrt(n)\n",
    "ic_inf = moy_obs - quantile * std/np.sqrt(n)\n",
    "\n",
    "display(ic_inf, moy_cible, ic_sup)"
   ]
  },
  {
   "cell_type": "markdown",
   "id": "fa9c407d-d37b-4a09-9eae-b6d814aad2ac",
   "metadata": {},
   "source": [
    "Effectivement, la moyenne cible n'appartient pas à l'intervalle de confiance de notre moyenne observée. Il est donc peu probable qu'on conclut à tord à la défaillance machine."
   ]
  },
  {
   "cell_type": "code",
   "execution_count": 15,
   "id": "1aba8441-fae4-42f9-a57b-d3ff6a0a3210",
   "metadata": {},
   "outputs": [
    {
     "data": {
      "text/plain": [
       "9.036274695663673"
      ]
     },
     "metadata": {},
     "output_type": "display_data"
    },
    {
     "data": {
      "text/plain": [
       "1.3814898377141245e-14"
      ]
     },
     "metadata": {},
     "output_type": "display_data"
    }
   ],
   "source": [
    "# test de student à un échantillon\n",
    "from scipy.stats import ttest_1samp as test_conformite\n",
    "\n",
    "results = test_conformite(serie, moy_cible, alternative='two-sided')\n",
    "display(results.statistic, results.pvalue)"
   ]
  },
  {
   "cell_type": "code",
   "execution_count": 18,
   "id": "13aa125f-3fbd-4188-a232-31d9a2ea824e",
   "metadata": {},
   "outputs": [
    {
     "data": {
      "text/plain": [
       "ConfidenceInterval(low=58.171463255736086, high=58.26795148964892)"
      ]
     },
     "execution_count": 18,
     "metadata": {},
     "output_type": "execute_result"
    }
   ],
   "source": [
    "results.confidence_interval(confidence_level=0.95)"
   ]
  },
  {
   "cell_type": "markdown",
   "id": "56d78bbb-e1af-4bb4-b70d-1a514913c05d",
   "metadata": {},
   "source": [
    "Nos observations précédentes étaient bonnes. Avec un risque d'erreur de 5%, on peut rejeter l'hypothèse nulle. On conclut donc à la défaillance machine."
   ]
  }
 ],
 "metadata": {
  "kernelspec": {
   "display_name": "Python 3 (ipykernel)",
   "language": "python",
   "name": "python3"
  },
  "language_info": {
   "codemirror_mode": {
    "name": "ipython",
    "version": 3
   },
   "file_extension": ".py",
   "mimetype": "text/x-python",
   "name": "python",
   "nbconvert_exporter": "python",
   "pygments_lexer": "ipython3",
   "version": "3.10.12"
  }
 },
 "nbformat": 4,
 "nbformat_minor": 5
}
